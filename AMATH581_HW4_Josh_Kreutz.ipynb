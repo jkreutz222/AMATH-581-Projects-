{
 "cells": [
  {
   "cell_type": "code",
   "execution_count": null,
   "metadata": {},
   "outputs": [
    {
     "name": "stdout",
     "output_type": "stream",
     "text": [
      "Matrix A (Laplacian):\n",
      " [[-0.64  0.16  0.   ...  0.    0.    0.  ]\n",
      " [ 0.16 -0.64  0.16 ...  0.    0.    0.  ]\n",
      " [ 0.    0.16 -0.64 ...  0.    0.    0.  ]\n",
      " ...\n",
      " [ 0.    0.    0.   ... -0.64  0.16  0.  ]\n",
      " [ 0.    0.    0.   ...  0.16 -0.64  0.16]\n",
      " [ 0.    0.    0.   ...  0.    0.16 -0.64]]\n",
      "\n",
      "Matrix B (Dx):\n",
      " [[ 0.   0.2  0.  ...  0.   0.   0. ]\n",
      " [-0.2  0.   0.2 ...  0.   0.   0. ]\n",
      " [ 0.  -0.2  0.  ...  0.   0.   0. ]\n",
      " ...\n",
      " [ 0.   0.   0.  ...  0.   0.2  0. ]\n",
      " [ 0.   0.   0.  ... -0.2  0.   0.2]\n",
      " [ 0.   0.   0.  ...  0.  -0.2  0. ]]\n",
      "\n",
      "Matrix C (Dy):\n",
      " [[0. 0. 0. ... 0. 0. 0.]\n",
      " [0. 0. 0. ... 0. 0. 0.]\n",
      " [0. 0. 0. ... 0. 0. 0.]\n",
      " ...\n",
      " [0. 0. 0. ... 0. 0. 0.]\n",
      " [0. 0. 0. ... 0. 0. 0.]\n",
      " [0. 0. 0. ... 0. 0. 0.]]\n"
     ]
    },
    {
     "name": "stderr",
     "output_type": "stream",
     "text": [
      "c:\\Users\\jkreu\\anaconda3\\Lib\\site-packages\\scipy\\sparse\\_index.py:100: SparseEfficiencyWarning: Changing the sparsity structure of a csr_matrix is expensive. lil_matrix is more efficient.\n",
      "  self._set_intXint(row, col, x.flat[0])\n"
     ]
    },
    {
     "data": {
      "text/plain": [
       "<matplotlib.image.AxesImage at 0x2f5ffb985d0>"
      ]
     },
     "execution_count": 11,
     "metadata": {},
     "output_type": "execute_result"
    },
    {
     "data": {
      "image/png": "[encoded data removed]",
      "text/plain": [
       "<Figure size 640x480 with 1 Axes>"
      ]
     },
     "metadata": {},
     "output_type": "display_data"
    }
   ],
   "source": [
    "# Josh Kreutz\n",
    "# 11/12/2024 \n",
    "# AMATH 581 HW #4\n",
    "\n",
    "import numpy as np\n",
    "import scipy.sparse as sp\n",
    "import scipy.sparse.linalg as spla\n",
    "import matplotlib.pyplot as plt\n",
    "\n",
    "# Parameters\n",
    "L = 20  # Domain length [-10, 10] implies total length of 20\n",
    "n = 8   # Number of grid points\n",
    "dx = L / n\n",
    "x = np.linspace(-L/2, L/2, n, endpoint=False)\n",
    "\n",
    "# Create second derivative operator with periodic boundary conditions\n",
    "e = np.ones(n)\n",
    "D2 = sp.spdiags([e, -2*e, e], [-1, 0, 1], n, n) / dx**2\n",
    "D2 = sp.csr_matrix(D2)\n",
    "D2[0, -1] = D2[-1, 0] = 1 / dx**2  # Periodic boundaries\n",
    "\n",
    "# Construct A = D2_x + D2_y (Laplacian operator in 2D)\n",
    "I = sp.eye(n)\n",
    "A = sp.kron(I, D2) + sp.kron(D2, I)\n",
    "\n",
    "# First derivative operators B = Dx, C = Dy\n",
    "D = sp.spdiags([-e, e], [-1, 1], n, n) / (2 * dx)\n",
    "D = sp.csr_matrix(D)\n",
    "D[0, -1] = -1 / (2 * dx)  # Periodic boundaries\n",
    "D[-1, 0] = 1 / (2 * dx)   # Periodic boundaries\n",
    "\n",
    "# Construct B and C using Kronecker products\n",
    "B = sp.kron(I, D)  # ∂/∂x operator in 2D\n",
    "C = sp.kron(D, I)  # ∂/∂y operator in 2D\n",
    "\n",
    "# Convert to dense matrices if needed\n",
    "A_dense = A.toarray()\n",
    "B_dense = B.toarray()\n",
    "C_dense = C.toarray()\n",
    "\n",
    "# Display matrices for A, B, and C\n",
    "print(\"Matrix A (Laplacian):\\n\", A_dense)\n",
    "print(\"\\nMatrix B (Dx):\\n\", B_dense)\n",
    "print(\"\\nMatrix C (Dy):\\n\", C_dense)\n",
    "\n",
    "A1 = A_dense\n",
    "A3 = B_dense\n",
    "A2 = C_dense\n",
    "\n",
    "plt.spy(A2)\n",
    "plt.spy(A3)\n",
    "\n"
   ]
  }
 ],
 "metadata": {
  "kernelspec": {
   "display_name": "base",
   "language": "python",
   "name": "python3"
  },
  "language_info": {
   "codemirror_mode": {
    "name": "ipython",
    "version": 3
   },
   "file_extension": ".py",
   "mimetype": "text/x-python",
   "name": "python",
   "nbconvert_exporter": "python",
   "pygments_lexer": "ipython3",
   "version": "3.11.7"
  }
 },
 "nbformat": 4,
 "nbformat_minor": 2
}
